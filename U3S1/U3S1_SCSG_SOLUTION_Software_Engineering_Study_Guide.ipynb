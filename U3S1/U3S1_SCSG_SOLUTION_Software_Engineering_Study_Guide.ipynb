{
 "cells": [
  {
   "cell_type": "markdown",
   "metadata": {
    "colab_type": "text",
    "id": "Nd2OOOVXxXS1"
   },
   "source": [
    "This study guide should reinforce and provide practice for all of the concepts you have seen in the past week. There are a mix of written questions and coding exercises, both are equally important to prepare you for the sprint challenge as well as to be able to speak on these topics comfortably in interviews and on the job.\n",
    "\n",
    "If you get stuck or are unsure of something remember the 20 minute rule. If that doesn't help, then research a solution with google and stackoverflow. Only once you have exausted these methods should you turn to your Team Lead - they won't be there on your SC or during an interview. That being said, don't hesitate to ask for help if you truly are stuck.\n",
    "\n",
    "Have fun studying!"
   ]
  },
  {
   "cell_type": "markdown",
   "metadata": {
    "colab_type": "text",
    "id": "YbwATE4qeJx7"
   },
   "source": [
    "# Object Oriented Programming"
   ]
  },
  {
   "cell_type": "markdown",
   "metadata": {
    "colab_type": "text",
    "id": "fpvInKdXekFi"
   },
   "source": [
    "## Questions"
   ]
  },
  {
   "cell_type": "markdown",
   "metadata": {
    "colab_type": "text",
    "id": "Q6bS8AhBZ86H"
   },
   "source": [
    "When completing this section, try to limit your answers to 2-3 sentences max and use plain english as much as possible. It's very easy to hide incomplete knowledge and understanding behind fancy or technical words, so imagine you are explaining these things to a non-technical interviewer.\n",
    "\n",
    "1. What is OOP?\n",
    "```\n",
    "Object Oriented programming (OOP) is a programming paradigm that relies on the concept of classes and objects.\n",
    "It is used to structure a software program into simple, reusable pieces of code blueprints (usually called classes), which are used to create individual instances of objects.\n",
    "```\n",
    "\n",
    "2. What is an object?\n",
    "```\n",
    "Objects are instances of classes created with specific data.\n",
    "```\n",
    "\n",
    "3. What is a class?\n",
    "```\n",
    "In a nutshell, classes are essentially user defined data types. Classes are where we create a blueprint for the structure of methods and attributes. Individual objects are instantiated, or created from this blueprint.\n",
    "```\n",
    "\n",
    "4. What is inheritance?\n",
    "```\n",
    "Inheritance allows classes to inherit features of other classes. Put another way, parent classes extend attributes and behaviors to child classes. -> Inheritance supports reusability.\n",
    "Child classes automatically gain access to functionalities within their parent class.\n",
    "```\n",
    "\n",
    "5. What does it mean to \"instantiate an object\"?\n",
    "```\n",
    "When an object is instantiated from the class, the data and methods are encapsulated in that object.\n",
    "You are essentially creating a unique instance of the class.\n",
    "-> Like each day is a unique instance of earths habitual rotation about its axis...\n",
    "```\n",
    "\n",
    "6. What is a dunder method (aka magic method)? What dunder method is called when you instantiate an object?\n",
    "```\n",
    "Dunder or magic methods in Python are the methods having two prefix and suffix underscores in the method name. Dunder here means “Double Under (Underscores)”. These are commonly used for operator overloading.\n",
    "The __init__ method for initialization is invoked without any call, when an instance of a class is created.\n",
    "```\n",
    "\n",
    "7. What is the super method and when is it used?\n",
    "```\n",
    "The super() function in Python makes class inheritance more manageable and extensible. The function returns a temporary object that allows reference to a parent class by the keyword super.\n",
    "```\n",
    "\n",
    "8. What are two other programming paradigms?\n",
    "```\n",
    "Imperative: Programming with an explicit sequence of commands that update state.\n",
    "Declarative: Programming by specifying the result you want, not how to get it.\n",
    "Structured: Programming with clean, goto-free, nested control structures.\n",
    "Procedural: Imperative programming with procedure calls.\n",
    "Functional (Applicative): Programming with function calls that avoid any global state.\n",
    "Function-Level (Combinator): Programming with no variables at all.\n",
    "Object-Oriented: Programming by defining objects that send messages to each other. Objects have their own internal (encapsulated) state and public interfaces. Object orientation can be:\n",
    "Class-based: Objects get state and behavior based on membership in a class.\n",
    "Prototype-based: Objects get behavior from a prototype object.\n",
    "Event-Driven: Programming with emitters and listeners of asynchronous actions.\n",
    "Flow-Driven: Programming processes communicating with each other over predefined channels.\n",
    "Logic (Rule-based): Programming by specifying a set of facts and rules. An engine infers the answers to questions.\n",
    "Constraint: Programming by specifying a set of constraints. An engine finds the values that meet the constraints.\n",
    "```\n",
    "\n",
    "Sources:\n",
    "https://www.educative.io/blog/object-oriented-programming\n",
    "https://www.educative.io/edpresso/what-is-super-in-python\n",
    "https://www.geeksforgeeks.org/dunder-magic-methods-https://www.geeksforgeeks.org/dunder-magic-methods-python/#:~:text=Dunder%20or%20magic%20methods%20in%20Python%20are%20the%20methods%20having,commonly%20used%20for%20operator%20overloading.&text=These%20methods%20are%20the%20reason,operator%20without%20any%20explicit%20typecasting.\n",
    "https://cs.lmu.edu/~ray/notes/paradigms/"
   ]
  },
  {
   "cell_type": "markdown",
   "metadata": {
    "colab_type": "text",
    "id": "dUQaIwbceohq"
   },
   "source": [
    "## Practice Problems"
   ]
  },
  {
   "cell_type": "markdown",
   "metadata": {
    "colab_type": "text",
    "id": "gzQyr1iPfJBH"
   },
   "source": [
    "Create a `Person` class with the following attributes and methods\n",
    "\n",
    "`Instance Attributes`\n",
    "- name\n",
    "- age - age should be between 0 and 120, if the age is outside of this range at the time of instantiation, set it to 21\n",
    "- add 2 more instance attributes\n",
    "\n",
    "`Methods`\n",
    "- greets - a method that takes in a name and returns `'Hello, [INPUT NAME]! My name is [INSTANCE NAME], nice to meet you!'`\n",
    "- had_birthday - a method that increments age by 1\n",
    "- Write a method that uses one of the instance attributes you added"
   ]
  },
  {
   "cell_type": "code",
   "execution_count": null,
   "metadata": {
    "colab": {},
    "colab_type": "code",
    "id": "e5hj6Jjwen3J"
   },
   "outputs": [],
   "source": [
    "class Person:\n",
    "    \n",
    "    def __init__(name, age, )"
   ]
  },
  {
   "cell_type": "markdown",
   "metadata": {
    "colab_type": "text",
    "id": "rq6bizULj6YF"
   },
   "source": [
    "Instantiate your person class, the instance name should be the same as whatever is passed into the name attribute. Make sure you can access all attributes and all methods work as expected."
   ]
  },
  {
   "cell_type": "code",
   "execution_count": null,
   "metadata": {
    "colab": {},
    "colab_type": "code",
    "id": "1jSaglmDkEZ7"
   },
   "outputs": [],
   "source": []
  },
  {
   "cell_type": "markdown",
   "metadata": {
    "colab_type": "text",
    "id": "i2dHVZXjhlJS"
   },
   "source": [
    "Create a `worker` class that inherits from `person`. It should have another dunder method besides `__init__` and have the following attributes and method\n",
    "\n",
    "`Instance Attributes`\n",
    "- All of the attributes from person\n",
    "- company\n",
    "- job_title\n",
    "- personal_title (mrs, mr, Dr., etc.)\n",
    "- Add 2 more attributes relevant to just the worker class\n",
    "\n",
    "`Methods`\n",
    "- All of the methods from person\n",
    "- Override the greets class to now take in a personal title and name and returns `'Hello, [INPUT PERSONAL TITLE][INPUT NAME]! My name is [INSTANCE NAME], I work for [INSTANCE COMPANY].'`\n",
    "- Add a new methods relevant to just the worker class that uses at least 2 attributes"
   ]
  },
  {
   "cell_type": "code",
   "execution_count": null,
   "metadata": {
    "colab": {},
    "colab_type": "code",
    "id": "bnt4a3p9ZYFz"
   },
   "outputs": [],
   "source": []
  },
  {
   "cell_type": "markdown",
   "metadata": {
    "colab_type": "text",
    "id": "QMlNQIUUkbSs"
   },
   "source": [
    "Instantiate your worker class, the instance name should be the same as whatever is passed into the name attribute. Make sure you can access all attributes and all methods work as expected."
   ]
  },
  {
   "cell_type": "code",
   "execution_count": null,
   "metadata": {
    "colab": {},
    "colab_type": "code",
    "id": "aeVIWEMAkvTM"
   },
   "outputs": [],
   "source": []
  },
  {
   "cell_type": "markdown",
   "metadata": {
    "colab_type": "text",
    "id": "TB0FEyf9-Kjk"
   },
   "source": [
    "Write a loop to instantiate 10 `workers` in a list, all with [random](https://docs.python.org/3/library/random.html) values."
   ]
  },
  {
   "cell_type": "code",
   "execution_count": null,
   "metadata": {
    "colab": {},
    "colab_type": "code",
    "id": "RG8OoaXC-bvS"
   },
   "outputs": [],
   "source": []
  },
  {
   "cell_type": "markdown",
   "metadata": {
    "colab_type": "text",
    "id": "1PK2d0Ou-b7O"
   },
   "source": [
    "Programatically figure out which `worker` in the list is oldest."
   ]
  },
  {
   "cell_type": "code",
   "execution_count": null,
   "metadata": {
    "colab": {},
    "colab_type": "code",
    "id": "NxA6Cl6s_If1"
   },
   "outputs": [],
   "source": []
  },
  {
   "cell_type": "markdown",
   "metadata": {
    "colab_type": "text",
    "id": "5CdB5tYilNNi"
   },
   "source": [
    "Verify all of your code above is PEP8 Compliant"
   ]
  },
  {
   "cell_type": "markdown",
   "metadata": {
    "colab_type": "text",
    "id": "B6jwRAUH7rV4"
   },
   "source": [
    "[More OOP practice if you want it](https://github.com/LambdaSchool/DS-OOP-Review)"
   ]
  },
  {
   "cell_type": "markdown",
   "metadata": {
    "colab_type": "text",
    "id": "dcWZeuPvmGvg"
   },
   "source": [
    "# Code Review"
   ]
  },
  {
   "cell_type": "markdown",
   "metadata": {
    "colab_type": "text",
    "id": "ijwt2MNXmONV"
   },
   "source": [
    "## Questions"
   ]
  },
  {
   "cell_type": "markdown",
   "metadata": {
    "colab_type": "text",
    "id": "igFiqkERmWSk"
   },
   "source": [
    "When completing this section, try to limit your answers to 2-3 sentences max and use plain english as much as possible. It's very easy to hide incomplete knowledge and understanding behind fancy or technical words, so imagine you are explaining these things to a non-technical interviewer.\n",
    "\n",
    "1. What is a style guide? Why does it matter?\n",
    "```\n",
    "Put your answer here\n",
    "```\n",
    "\n",
    "2. What is the style guide for Python called? Name 3 conventions in the style guide.\n",
    "```\n",
    "Put your answer here\n",
    "```\n",
    "\n",
    "3. What are we looking for in a code review?\n",
    "```\n",
    "Put your answer here\n",
    "```\n",
    "\n",
    "4. Of the items listed in question 3, which do you find to be the most important one and why?\n",
    "```\n",
    "Put your answer here\n",
    "```\n",
    "\n",
    "5. Of the items listed in question 3, make a case for another item to be the most important.\n",
    "```\n",
    "Put your answer here\n",
    "```\n",
    "\n",
    "6. What are some non-code considerations when giving a code review?\n",
    "```\n",
    "Put your answer here\n",
    "```"
   ]
  },
  {
   "cell_type": "markdown",
   "metadata": {
    "colab_type": "text",
    "id": "TfGAb--lmTS1"
   },
   "source": [
    "## Practice Problems"
   ]
  },
  {
   "cell_type": "markdown",
   "metadata": {
    "colab_type": "text",
    "id": "8r525vW1o8RI"
   },
   "source": [
    "Use the code below to answer the following questions"
   ]
  },
  {
   "cell_type": "code",
   "execution_count": null,
   "metadata": {
    "colab": {},
    "colab_type": "code",
    "id": "K6X-1BM8mSJV"
   },
   "outputs": [],
   "source": [
    "def sumMult35(n):\n",
    "  #This function finds checks to see if all numbers between 1 and n are a multiple of 3 or five and then adds those ones up. After that it returns that total.\n",
    "  t = 0\n",
    "  for i in range(1, n):\n",
    "    if ((i%3==0)): #mult of 3?\n",
    "      if (i%5==0): '''multiple of 5?'''\n",
    "        t=t+i #add up\n",
    "  return t\n",
    "\n",
    "sumMult35(16)"
   ]
  },
  {
   "cell_type": "markdown",
   "metadata": {
    "colab_type": "text",
    "id": "6Y52bPq0pBm7"
   },
   "source": [
    "Write a short code review for the code above, that your coworker (the author of the code) will read. Remember two things: they are a fellow human, and also that you are not rewriting it for them, simply giving critique so that they can fix it later.\n",
    "\n",
    "```\n",
    "Put your answer here\n",
    "```"
   ]
  },
  {
   "cell_type": "markdown",
   "metadata": {
    "colab_type": "text",
    "id": "cFVnDJSDpz5S"
   },
   "source": [
    "Oh, no! You've swapped bodies with your coworker and now have to fix the code. Use your code review to rewrite the function, and make sure it is PEP8 compliant."
   ]
  },
  {
   "cell_type": "code",
   "execution_count": null,
   "metadata": {
    "colab": {},
    "colab_type": "code",
    "id": "WLyoAK5RqL9B"
   },
   "outputs": [],
   "source": []
  },
  {
   "cell_type": "markdown",
   "metadata": {
    "colab_type": "text",
    "id": "MT4KnnBdrwCh"
   },
   "source": [
    "# Containers"
   ]
  },
  {
   "cell_type": "markdown",
   "metadata": {
    "colab_type": "text",
    "id": "alRbvYkBr2UE"
   },
   "source": [
    "## Questions"
   ]
  },
  {
   "cell_type": "markdown",
   "metadata": {
    "colab_type": "text",
    "id": "4HwVuidTr4TT"
   },
   "source": [
    "1. What is a container? Why are they used?\n",
    "```\n",
    "Put your answer here\n",
    "```\n",
    "\n",
    "2. From lecture we know Docker is software to create containers. Name 2 Docker competitors.\n",
    "```\n",
    "Put your answer here\n",
    "```"
   ]
  },
  {
   "cell_type": "markdown",
   "metadata": {
    "colab_type": "text",
    "id": "P8HQI4R5steC"
   },
   "source": [
    "# Software Testing"
   ]
  },
  {
   "cell_type": "markdown",
   "metadata": {
    "colab_type": "text",
    "id": "mslC0tl-tPUZ"
   },
   "source": [
    "## Questions"
   ]
  },
  {
   "cell_type": "markdown",
   "metadata": {
    "colab_type": "text",
    "id": "9d8MIl9dtRMA"
   },
   "source": [
    "When completing this section, try to limit your answers to 2-3 sentences max and use plain english as much as possible. It's very easy to hide incomplete knowledge and understanding behind fancy or technical words, so imagine you are explaining these things to a non-technical interviewer.\n",
    "\n",
    "1. What is unit testing and why do we do it?\n",
    "```\n",
    "Put your answer here\n",
    "```\n",
    "\n",
    "2. When writing unit tests, what should we consider? Why?\n",
    "```\n",
    "Put your answer here\n",
    "```\n",
    "\n",
    "3. How many unit tests should we have?\n",
    "```\n",
    "Put your answer here\n",
    "```"
   ]
  },
  {
   "cell_type": "markdown",
   "metadata": {
    "colab_type": "text",
    "id": "Z7mPWVQhuEcY"
   },
   "source": [
    "## Practice Problems"
   ]
  },
  {
   "cell_type": "markdown",
   "metadata": {
    "colab_type": "text",
    "id": "OEoaQiBbuHuH"
   },
   "source": [
    "For the following problems you'll need to move your `Person` and `Worker` classes to `.py` files.\n",
    "\n",
    "Write the following unit tests in a third `.py` file. Verify they work by running the file, and then copy and paste the code into the cell below.\n",
    "- Verify that an instance of person has an age between 0 and 120 when first instantiated\n",
    "- Verify the same thing with a worker instance\n",
    "- Verify the worker `greet` method uses the `personal_title` of the person passed to it.\n",
    "- Write your own unit test"
   ]
  },
  {
   "cell_type": "code",
   "execution_count": null,
   "metadata": {
    "colab": {},
    "colab_type": "code",
    "id": "fFuP-ZfKv8h1"
   },
   "outputs": [],
   "source": []
  },
  {
   "cell_type": "markdown",
   "metadata": {
    "colab_type": "text",
    "id": "QQQopcNseCeT"
   },
   "source": [
    "The code in all 3 `.py` files should be PEP8 compliant"
   ]
  },
  {
   "cell_type": "markdown",
   "metadata": {
    "colab_type": "text",
    "id": "RvdEFbjMwZTx"
   },
   "source": [
    "# Git Commands"
   ]
  },
  {
   "cell_type": "markdown",
   "metadata": {
    "colab_type": "text",
    "id": "yjAVDrQuwcZQ"
   },
   "source": [
    "1. What is the command to make a local copy of one of your repos?\n",
    "```\n",
    "Put your answer here\n",
    "```\n",
    "\n",
    "2. What does the command `git status` do?\n",
    "```\n",
    "Put your answer here\n",
    "```\n",
    "\n",
    "3. How do you add the changes made in a local repo to your repo on github?\n",
    "```\n",
    "Put your answer here\n",
    "```\n",
    "\n",
    "4. What is a branch? Why is it used?\n",
    "```\n",
    "Put your answer here\n",
    "```"
   ]
  }
 ],
 "metadata": {
  "colab": {
   "collapsed_sections": [],
   "include_colab_link": true,
   "name": "Unit 3 Sprint 1 - Software Engineering - Study Guide.ipynb",
   "provenance": []
  },
  "kernelspec": {
   "display_name": "Python 3",
   "language": "python",
   "name": "python3"
  },
  "language_info": {
   "codemirror_mode": {
    "name": "ipython",
    "version": 3
   },
   "file_extension": ".py",
   "mimetype": "text/x-python",
   "name": "python",
   "nbconvert_exporter": "python",
   "pygments_lexer": "ipython3",
   "version": "3.8.1"
  }
 },
 "nbformat": 4,
 "nbformat_minor": 4
}
